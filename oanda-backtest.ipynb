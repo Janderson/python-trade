{
 "cells": [
  {
   "cell_type": "code",
   "execution_count": null,
   "metadata": {
    "collapsed": true
   },
   "outputs": [],
   "source": []
  },
  {
   "cell_type": "code",
   "execution_count": 3,
   "metadata": {
    "collapsed": true
   },
   "outputs": [],
   "source": [
    "# source: https://www.oreilly.com/learning/algorithmic-trading-in-less-than-100-lines-of-python-code\n",
    "%matplotlib inline\n",
    "import configparser  # 1\n",
    "import oandapy as opy  # 2\n",
    "import numpy as np  # 11\n",
    "import pandas as pd  # 6\n"
   ]
  },
  {
   "cell_type": "code",
   "execution_count": 7,
   "metadata": {
    "collapsed": false
   },
   "outputs": [
    {
     "ename": "OandaError",
     "evalue": "OANDA API returned error code 36 (The value specified is not in the valid range: Resulting candle count is larger than maximum allowed: 5000) ",
     "output_type": "error",
     "traceback": [
      "\u001b[1;31m---------------------------------------------------------------------------\u001b[0m",
      "\u001b[1;31mOandaError\u001b[0m                                Traceback (most recent call last)",
      "\u001b[1;32m<ipython-input-7-cfccf429a75b>\u001b[0m in \u001b[0;36m<module>\u001b[1;34m()\u001b[0m\n\u001b[0;32m      8\u001b[0m                          \u001b[0mstart\u001b[0m\u001b[1;33m=\u001b[0m\u001b[1;34m'2016-01-08'\u001b[0m\u001b[1;33m,\u001b[0m  \u001b[1;31m# start data\u001b[0m\u001b[1;33m\u001b[0m\u001b[0m\n\u001b[0;32m      9\u001b[0m                          \u001b[0mend\u001b[0m\u001b[1;33m=\u001b[0m\u001b[1;34m'2016-12-10'\u001b[0m\u001b[1;33m,\u001b[0m  \u001b[1;31m# end date\u001b[0m\u001b[1;33m\u001b[0m\u001b[0m\n\u001b[1;32m---> 10\u001b[1;33m                          granularity='M1')  # minute bars  # 7\n\u001b[0m\u001b[0;32m     11\u001b[0m \u001b[1;33m\u001b[0m\u001b[0m\n\u001b[0;32m     12\u001b[0m \u001b[0mdf\u001b[0m \u001b[1;33m=\u001b[0m \u001b[0mpd\u001b[0m\u001b[1;33m.\u001b[0m\u001b[0mDataFrame\u001b[0m\u001b[1;33m(\u001b[0m\u001b[0mdata\u001b[0m\u001b[1;33m[\u001b[0m\u001b[1;34m'candles'\u001b[0m\u001b[1;33m]\u001b[0m\u001b[1;33m)\u001b[0m\u001b[1;33m.\u001b[0m\u001b[0mset_index\u001b[0m\u001b[1;33m(\u001b[0m\u001b[1;34m'time'\u001b[0m\u001b[1;33m)\u001b[0m  \u001b[1;31m# 8\u001b[0m\u001b[1;33m\u001b[0m\u001b[0m\n",
      "\u001b[1;32md:\\Anaconda3\\lib\\site-packages\\oandapy\\oandapy.py\u001b[0m in \u001b[0;36mget_history\u001b[1;34m(self, **params)\u001b[0m\n\u001b[0;32m     36\u001b[0m         \"\"\"\n\u001b[0;32m     37\u001b[0m         \u001b[0mendpoint\u001b[0m \u001b[1;33m=\u001b[0m \u001b[1;34m'v1/candles'\u001b[0m\u001b[1;33m\u001b[0m\u001b[0m\n\u001b[1;32m---> 38\u001b[1;33m         \u001b[1;32mreturn\u001b[0m \u001b[0mself\u001b[0m\u001b[1;33m.\u001b[0m\u001b[0mrequest\u001b[0m\u001b[1;33m(\u001b[0m\u001b[0mendpoint\u001b[0m\u001b[1;33m,\u001b[0m \u001b[0mparams\u001b[0m\u001b[1;33m=\u001b[0m\u001b[0mparams\u001b[0m\u001b[1;33m)\u001b[0m\u001b[1;33m\u001b[0m\u001b[0m\n\u001b[0m\u001b[0;32m     39\u001b[0m \u001b[1;33m\u001b[0m\u001b[0m\n\u001b[0;32m     40\u001b[0m     \u001b[1;34m\"\"\"Accounts\"\"\"\u001b[0m\u001b[1;33m\u001b[0m\u001b[0m\n",
      "\u001b[1;32md:\\Anaconda3\\lib\\site-packages\\oandapy\\oandapy.py\u001b[0m in \u001b[0;36mrequest\u001b[1;34m(self, endpoint, method, params)\u001b[0m\n\u001b[0;32m    282\u001b[0m         \u001b[1;31m# error message\u001b[0m\u001b[1;33m\u001b[0m\u001b[1;33m\u001b[0m\u001b[0m\n\u001b[0;32m    283\u001b[0m         \u001b[1;32mif\u001b[0m \u001b[0mresponse\u001b[0m\u001b[1;33m.\u001b[0m\u001b[0mstatus_code\u001b[0m \u001b[1;33m>=\u001b[0m \u001b[1;36m400\u001b[0m\u001b[1;33m:\u001b[0m\u001b[1;33m\u001b[0m\u001b[0m\n\u001b[1;32m--> 284\u001b[1;33m             \u001b[1;32mraise\u001b[0m \u001b[0mOandaError\u001b[0m\u001b[1;33m(\u001b[0m\u001b[0mcontent\u001b[0m\u001b[1;33m)\u001b[0m\u001b[1;33m\u001b[0m\u001b[0m\n\u001b[0m\u001b[0;32m    285\u001b[0m \u001b[1;33m\u001b[0m\u001b[0m\n\u001b[0;32m    286\u001b[0m         \u001b[1;32mreturn\u001b[0m \u001b[0mcontent\u001b[0m\u001b[1;33m\u001b[0m\u001b[0m\n",
      "\u001b[1;31mOandaError\u001b[0m: OANDA API returned error code 36 (The value specified is not in the valid range: Resulting candle count is larger than maximum allowed: 5000) "
     ]
    }
   ],
   "source": [
    "config = configparser.ConfigParser()  # 3\n",
    "config.read('oanda.cfg')  # 4\n",
    "\n",
    "oanda = opy.API(environment='practice',\n",
    "                access_token=config['oanda']['access_token'])  # 5\n",
    "\n",
    "data = oanda.get_history(instrument='AUD_USD',  # our instrument\n",
    "                         start='2016-01-08',  # start data\n",
    "                         end='2016-12-10',  # end date\n",
    "                         granularity='M1')  # minute bars  # 7\n",
    "\n",
    "df = pd.DataFrame(data['candles']).set_index('time')  # 8\n",
    "\n",
    "df.index = pd.DatetimeIndex(df.index)  # 9\n",
    "\n",
    "df.info() # 10\n",
    "\n",
    "\n",
    "\n",
    "\n",
    "df['returns'] = np.log(df['closeAsk'] / df['closeAsk'].shift(1))  # 12\n",
    "\n",
    "cols = []  # 13\n",
    "\n",
    "for momentum in [15, 30, 60, 120]:  # 14\n",
    "    col = 'position_%s' % momentum  # 15\n",
    "    df[col] = np.sign(df['returns'].rolling(momentum).mean())  # 16\n",
    "    cols.append(col)  # 17\n",
    "\n",
    "\n",
    "\n",
    "import seaborn as sns; sns.set()  # 18\n",
    "\n",
    "strats = ['returns']  # 19\n",
    "\n",
    "for col in cols:  # 20\n",
    "    strat = 'strategy_%s' % col.split('_')[1]  # 21\n",
    "    df[strat] = df[col].shift(1) * df['returns']  # 22\n",
    "    strats.append(strat)  # 23\n",
    "\n",
    "df[strats].dropna().cumsum().apply(np.exp).plot()  # 24\n"
   ]
  }
 ],
 "metadata": {
  "anaconda-cloud": {},
  "kernelspec": {
   "display_name": "Python [Root]",
   "language": "python",
   "name": "Python [Root]"
  },
  "language_info": {
   "codemirror_mode": {
    "name": "ipython",
    "version": 3
   },
   "file_extension": ".py",
   "mimetype": "text/x-python",
   "name": "python",
   "nbconvert_exporter": "python",
   "pygments_lexer": "ipython3",
   "version": "3.5.2"
  }
 },
 "nbformat": 4,
 "nbformat_minor": 0
}
